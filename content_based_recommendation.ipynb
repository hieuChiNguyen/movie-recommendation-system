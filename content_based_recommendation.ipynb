{
 "cells": [
  {
   "cell_type": "code",
   "execution_count": null,
   "id": "initial_id",
   "metadata": {
    "collapsed": true
   },
   "outputs": [],
   "source": [
    "import pandas as pd\n",
    "import numpy as np\n",
    "import faiss\n",
    "from sentence_transformers import SentenceTransformer\n",
    "import torch\n",
    "\n",
    "movies_cleaned = pd.read_csv('data/TMDB_movie_dataset_v11_cleaned.csv')"
   ]
  },
  {
   "metadata": {},
   "cell_type": "code",
   "outputs": [],
   "execution_count": null,
   "source": "movies_cleaned.head(5)",
   "id": "c9973f735a857d2"
  },
  {
   "metadata": {},
   "cell_type": "code",
   "outputs": [],
   "execution_count": null,
   "source": "movies_cleaned.shape",
   "id": "4669ce6acc9b2725"
  },
  {
   "metadata": {},
   "cell_type": "code",
   "outputs": [],
   "execution_count": null,
   "source": [
    "from sklearn.feature_extraction.text import TfidfVectorizer\n",
    "\n",
    "# Initialize TF-IDF vectorizer\n",
    "tfidf = TfidfVectorizer(stop_words='english')\n",
    "\n",
    "# Compute TF-IDF matrix\n",
    "print(\"Computing TF-IDF matrix\")\n",
    "tfidf_matrix = tfidf.fit_transform(movies_cleaned['description'])\n",
    "print(f\"TF-IDF matrix shape: {tfidf_matrix.shape}\")"
   ],
   "id": "39fd7a2a23888a40"
  },
  {
   "metadata": {},
   "cell_type": "markdown",
   "source": "TF-IDF matrix shape: (1253612, 488236) is large so it is not recommended to calculate the entire cosine similarity between all pairs of documents.\n",
   "id": "eaf55caca1f8e76d"
  },
  {
   "metadata": {},
   "cell_type": "code",
   "outputs": [],
   "execution_count": null,
   "source": [
    "# # Compute cosine similarity matrix\n",
    "# from sklearn.metrics.pairwise import linear_kernel\n",
    "#\n",
    "# cosine_sim = linear_kernel(tfidf_matrix, tfidf_matrix)"
   ],
   "id": "88ba61635185bbf2"
  },
  {
   "metadata": {},
   "cell_type": "code",
   "outputs": [],
   "execution_count": null,
   "source": [
    "# def get_recommendations(movie_title: str, cosine_sim: cosine_sim, top_n: int = 5) -> pd.Series:\n",
    "#     \"\"\"\n",
    "#     Get top-N movie recommendations based on cosine similarity for a given movie title.\n",
    "#\n",
    "#     Args:\n",
    "#         movie_title (str): Title of the movie to find recommendations for.\n",
    "#         cosine_sim (np.ndarray): Cosine similarity matrix.\n",
    "#         top_n (int): Number of recommendations to return (default: 5).\n",
    "#\n",
    "#     Returns:\n",
    "#         pd.Series: Titles of the top-N recommended movies.\n",
    "#     \"\"\"\n",
    "#     # Get movie index\n",
    "#     idx = indices[movie_title]\n",
    "#\n",
    "#     # Get similarity scores for the movie\n",
    "#     sim_scores = list(enumerate(cosine_sim[idx]))\n",
    "#\n",
    "#     # Sort by similarity score in descending order\n",
    "#     sim_scores = sorted(sim_scores, key=lambda x: x[1], reverse=True)\n",
    "#\n",
    "#     # Select top-N similar movies (excluding the input movie)\n",
    "#     sim_scores = sim_scores[1:top_n + 1]\n",
    "#     print(f\"Top {top_n} recommendations for '{movie_title}': {sim_scores}\")\n",
    "#\n",
    "#     # Get movie indices\n",
    "#     movie_indices = [i[0] for i in sim_scores]\n",
    "#     print(f\"Movie indices for recommendations: {movie_indices}\")\n",
    "#\n",
    "#     # Return recommended movie titles\n",
    "#     return movies_cleaned['title'].iloc[movie_indices]"
   ],
   "id": "a41c41468d713f6b"
  },
  {
   "metadata": {},
   "cell_type": "code",
   "outputs": [],
   "execution_count": null,
   "source": [
    "# Create index mapping for movie titles\n",
    "indices_series = pd.Series(movies_cleaned.index, index=movies_cleaned['title'])\n",
    "print(f\"Indices mapping: {indices_series.head(20)}\")"
   ],
   "id": "31514fac8781620c"
  },
  {
   "metadata": {},
   "cell_type": "code",
   "outputs": [],
   "execution_count": null,
   "source": [
    "# pip install torch torchvision torchaudio --index-url https://download.pytorch.org/whl/cu118\n",
    "# pip install torch torchvision torchaudio --index-url https://download.pytorch.org/whl/cu118 --force-reinstall --user => Cuda\n",
    "# pip install ipywidgets\n",
    "\n",
    "print(f\"PyTorch version: {torch.__version__}\")\n",
    "print(f\"CUDA available: {torch.cuda.is_available()}\")\n",
    "print(f\"CUDA version: {torch.version.cuda}\")\n",
    "print(f\"GPU device: {torch.cuda.get_device_name(0) if torch.cuda.is_available() else 'No GPU'}\")"
   ],
   "id": "119a57236e648bc"
  },
  {
   "metadata": {},
   "cell_type": "code",
   "outputs": [],
   "execution_count": null,
   "source": [
    "device = torch.device('cuda' if torch.cuda.is_available() else 'cpu')\n",
    "print(f\"Using device: {device}\")"
   ],
   "id": "55b0c5f48bf0329b"
  },
  {
   "metadata": {},
   "cell_type": "code",
   "outputs": [],
   "execution_count": null,
   "source": [
    "# import warnings\n",
    "# warnings.filterwarnings(\"ignore\", category=UserWarning)"
   ],
   "id": "ed94b1f987c2d6d"
  },
  {
   "metadata": {},
   "cell_type": "code",
   "outputs": [],
   "execution_count": null,
   "source": "model = SentenceTransformer('all-MiniLM-L6-v2', device=device)",
   "id": "b273202fd817e093"
  },
  {
   "metadata": {},
   "cell_type": "code",
   "outputs": [],
   "execution_count": null,
   "source": [
    "# Encode description use Sentence-BERT\n",
    "movie_description_embeddings = model.encode(\n",
    "    movies_cleaned['description'].tolist(),\n",
    "    batch_size=64,\n",
    "    show_progress_bar=True,\n",
    "    convert_to_numpy=True\n",
    ")\n",
    "\n",
    "# Ensure embeddings are float32 and C-contiguous\n",
    "movie_description_embeddings = np.array(movie_description_embeddings, dtype=np.float32)\n",
    "if not movie_description_embeddings.flags.c_contiguous:\n",
    "    movie_description_embeddings = np.ascontiguousarray(movie_description_embeddings)\n",
    "\n",
    "# FAISS index\n",
    "embedding_dim = movie_description_embeddings.shape[1]\n",
    "index = faiss.IndexFlatIP(embedding_dim)\n",
    "\n",
    "# Normalize vectors\n",
    "faiss.normalize_L2(movie_description_embeddings)\n",
    "index.add(movie_description_embeddings)\n",
    "print(f\"Added {index.ntotal} vectors to FAISS index\")\n",
    "\n",
    "# Save index and embeddings\n",
    "faiss.write_index(index, \"data/movie_faiss.index\")\n",
    "np.save(\"data/movie_embeddings.npy\", movie_description_embeddings)"
   ],
   "id": "88866bcf388c7802"
  },
  {
   "metadata": {},
   "cell_type": "code",
   "outputs": [],
   "execution_count": null,
   "source": "index = faiss.read_index(\"data/movie_faiss.index\")",
   "id": "e80e0ef6faa9127e"
  },
  {
   "metadata": {},
   "cell_type": "code",
   "outputs": [],
   "execution_count": null,
   "source": [
    "def get_recommendations(movie_title, top_n=5):\n",
    "    movie_row = movies_cleaned[movies_cleaned['title'] == movie_title]\n",
    "    if movie_row.empty:\n",
    "        raise ValueError(f\"Movie '{movie_title}' not found in dataset.\")\n",
    "\n",
    "    query_desc = movie_row['description'].values[0]\n",
    "    if not isinstance(query_desc, str) or not query_desc.strip():\n",
    "        raise ValueError(f\"Invalid description for '{movie_title}'.\")\n",
    "\n",
    "    torch.cuda.empty_cache()  # Optional\n",
    "\n",
    "    query_vec = model.encode([query_desc], convert_to_numpy=True)\n",
    "    query_embedding = np.array(query_vec, dtype=np.float32)\n",
    "\n",
    "    if query_embedding.ndim == 1:\n",
    "        query_embedding = query_embedding.reshape(1, -1)\n",
    "    if not query_embedding.flags.c_contiguous:\n",
    "        query_embedding = np.ascontiguousarray(query_embedding)\n",
    "\n",
    "    faiss.normalize_L2(query_embedding)\n",
    "    distances, indices = index.search(query_embedding, top_n + 1)\n",
    "    result_indices = indices[0][1:top_n + 1]\n",
    "\n",
    "    return movies_cleaned.iloc[result_indices]['title'].tolist()\n"
   ],
   "id": "eacc61ec5ad1ce2d"
  },
  {
   "metadata": {},
   "cell_type": "code",
   "outputs": [],
   "execution_count": null,
   "source": [
    "recommended_movies = get_recommendations(movie_title='The Avengers', top_n=5)\n",
    "print(\"Recommended Movies:\", recommended_movies)"
   ],
   "id": "841ae72b37d893ac"
  }
 ],
 "metadata": {
  "kernelspec": {
   "display_name": "Python 3",
   "language": "python",
   "name": "python3"
  },
  "language_info": {
   "codemirror_mode": {
    "name": "ipython",
    "version": 2
   },
   "file_extension": ".py",
   "mimetype": "text/x-python",
   "name": "python",
   "nbconvert_exporter": "python",
   "pygments_lexer": "ipython2",
   "version": "2.7.6"
  }
 },
 "nbformat": 4,
 "nbformat_minor": 5
}
